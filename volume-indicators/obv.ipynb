{
 "cells": [
  {
   "cell_type": "markdown",
   "metadata": {},
   "source": [
    "# OBV\n",
    "\n",
    "The On-Balance Volume (OBV) indicator is a technical analysis tool used in trading to measure buying and selling pressure by combining price and volume data. It was developed by Joseph Granville in the 1960s. The OBV indicator is based on the idea that volume precedes price movement, making it a leading indicator.\n",
    "\n",
    "https://www.investopedia.com/terms/o/onbalancevolume.asp\n",
    "\n",
    "In spanish:\n",
    "\n",
    "El OBV muestra el volumen total acumulado. El volumen de cada dia es añadido o sustraido , dependiendo de si los precios cierran mas altos o mas bajos que el dia anterior.\n",
    "\n",
    "Cuando el valor cierra mas alto, esto muestra que los alcistas han ganado la batalla del dia. Cuando cierra mas bajo, muestra que los bajistas an ganado el ese dia, y el volumen de ese dia se sustrae.\n",
    " de OBV.\n",
    "\n",
    " **El Volume-On Balance a menudo sube o baja antes que los precios y se comporta como un indicador adelantado.**\n",
    "\n",
    "\n"
   ]
  },
  {
   "cell_type": "code",
   "execution_count": 11,
   "metadata": {},
   "outputs": [],
   "source": [
    "import os\n",
    "from binance.client import Client\n",
    "import pandas as pd\n",
    "\n",
    "# Binance API Credentials\n",
    "api_key = os.getenv(\"BINANCE_API_KEY\")\n",
    "api_secret = os.getenv(\"BINANCE_API_SECRET\")"
   ]
  },
  {
   "cell_type": "code",
   "execution_count": 12,
   "metadata": {},
   "outputs": [],
   "source": [
    "# Intialize Client\n",
    "client = Client(api_key, api_secret)"
   ]
  },
  {
   "cell_type": "code",
   "execution_count": null,
   "metadata": {},
   "outputs": [],
   "source": []
  },
  {
   "cell_type": "code",
   "execution_count": 13,
   "metadata": {},
   "outputs": [
    {
     "name": "stdout",
     "output_type": "stream",
     "text": [
      "open      float64\n",
      "high      float64\n",
      "low       float64\n",
      "close     float64\n",
      "volume    float64\n",
      "color      object\n",
      "obv       float64\n",
      "dtype: object\n"
     ]
    },
    {
     "data": {
      "text/html": [
       "<div>\n",
       "<style scoped>\n",
       "    .dataframe tbody tr th:only-of-type {\n",
       "        vertical-align: middle;\n",
       "    }\n",
       "\n",
       "    .dataframe tbody tr th {\n",
       "        vertical-align: top;\n",
       "    }\n",
       "\n",
       "    .dataframe thead th {\n",
       "        text-align: right;\n",
       "    }\n",
       "</style>\n",
       "<table border=\"1\" class=\"dataframe\">\n",
       "  <thead>\n",
       "    <tr style=\"text-align: right;\">\n",
       "      <th></th>\n",
       "      <th>open</th>\n",
       "      <th>high</th>\n",
       "      <th>low</th>\n",
       "      <th>close</th>\n",
       "      <th>volume</th>\n",
       "      <th>color</th>\n",
       "      <th>obv</th>\n",
       "    </tr>\n",
       "    <tr>\n",
       "      <th>timestamp</th>\n",
       "      <th></th>\n",
       "      <th></th>\n",
       "      <th></th>\n",
       "      <th></th>\n",
       "      <th></th>\n",
       "      <th></th>\n",
       "      <th></th>\n",
       "    </tr>\n",
       "  </thead>\n",
       "  <tbody>\n",
       "    <tr>\n",
       "      <th>2024-12-31</th>\n",
       "      <td>92792.05</td>\n",
       "      <td>96250.00</td>\n",
       "      <td>92033.73</td>\n",
       "      <td>93576.00</td>\n",
       "      <td>19612.033890</td>\n",
       "      <td>green</td>\n",
       "      <td>0.000000</td>\n",
       "    </tr>\n",
       "    <tr>\n",
       "      <th>2025-01-01</th>\n",
       "      <td>93576.00</td>\n",
       "      <td>95151.15</td>\n",
       "      <td>92888.00</td>\n",
       "      <td>94591.79</td>\n",
       "      <td>10373.326130</td>\n",
       "      <td>green</td>\n",
       "      <td>-9238.707760</td>\n",
       "    </tr>\n",
       "    <tr>\n",
       "      <th>2025-01-02</th>\n",
       "      <td>94591.78</td>\n",
       "      <td>97839.50</td>\n",
       "      <td>94392.00</td>\n",
       "      <td>96984.79</td>\n",
       "      <td>21970.489480</td>\n",
       "      <td>green</td>\n",
       "      <td>2358.455590</td>\n",
       "    </tr>\n",
       "    <tr>\n",
       "      <th>2025-01-03</th>\n",
       "      <td>96984.79</td>\n",
       "      <td>98976.91</td>\n",
       "      <td>96100.01</td>\n",
       "      <td>98174.18</td>\n",
       "      <td>15253.829360</td>\n",
       "      <td>green</td>\n",
       "      <td>-4358.204530</td>\n",
       "    </tr>\n",
       "    <tr>\n",
       "      <th>2025-01-04</th>\n",
       "      <td>98174.17</td>\n",
       "      <td>98778.43</td>\n",
       "      <td>97514.79</td>\n",
       "      <td>98220.50</td>\n",
       "      <td>8990.056510</td>\n",
       "      <td>green</td>\n",
       "      <td>-10621.977380</td>\n",
       "    </tr>\n",
       "    <tr>\n",
       "      <th>2025-01-05</th>\n",
       "      <td>98220.51</td>\n",
       "      <td>98836.85</td>\n",
       "      <td>97276.79</td>\n",
       "      <td>98363.61</td>\n",
       "      <td>8095.637230</td>\n",
       "      <td>green</td>\n",
       "      <td>-11516.396660</td>\n",
       "    </tr>\n",
       "    <tr>\n",
       "      <th>2025-01-06</th>\n",
       "      <td>98363.61</td>\n",
       "      <td>102480.00</td>\n",
       "      <td>97920.00</td>\n",
       "      <td>102235.60</td>\n",
       "      <td>25263.433750</td>\n",
       "      <td>green</td>\n",
       "      <td>5651.399860</td>\n",
       "    </tr>\n",
       "    <tr>\n",
       "      <th>2025-01-07</th>\n",
       "      <td>102235.60</td>\n",
       "      <td>102724.38</td>\n",
       "      <td>96181.81</td>\n",
       "      <td>96954.61</td>\n",
       "      <td>32059.875370</td>\n",
       "      <td>red</td>\n",
       "      <td>-1145.041760</td>\n",
       "    </tr>\n",
       "    <tr>\n",
       "      <th>2025-01-08</th>\n",
       "      <td>96954.60</td>\n",
       "      <td>97268.65</td>\n",
       "      <td>92500.90</td>\n",
       "      <td>95060.61</td>\n",
       "      <td>33704.678940</td>\n",
       "      <td>red</td>\n",
       "      <td>-2789.845330</td>\n",
       "    </tr>\n",
       "    <tr>\n",
       "      <th>2025-01-09</th>\n",
       "      <td>95060.61</td>\n",
       "      <td>95382.32</td>\n",
       "      <td>91203.67</td>\n",
       "      <td>92552.49</td>\n",
       "      <td>34544.836850</td>\n",
       "      <td>red</td>\n",
       "      <td>-3630.003240</td>\n",
       "    </tr>\n",
       "    <tr>\n",
       "      <th>2025-01-10</th>\n",
       "      <td>92552.49</td>\n",
       "      <td>95836.00</td>\n",
       "      <td>92206.02</td>\n",
       "      <td>94726.11</td>\n",
       "      <td>31482.864240</td>\n",
       "      <td>green</td>\n",
       "      <td>-6691.975850</td>\n",
       "    </tr>\n",
       "    <tr>\n",
       "      <th>2025-01-11</th>\n",
       "      <td>94726.10</td>\n",
       "      <td>95050.94</td>\n",
       "      <td>93831.73</td>\n",
       "      <td>94599.99</td>\n",
       "      <td>7047.904300</td>\n",
       "      <td>red</td>\n",
       "      <td>17742.984090</td>\n",
       "    </tr>\n",
       "    <tr>\n",
       "      <th>2025-01-12</th>\n",
       "      <td>94599.99</td>\n",
       "      <td>95450.10</td>\n",
       "      <td>93711.19</td>\n",
       "      <td>94545.06</td>\n",
       "      <td>8606.866220</td>\n",
       "      <td>red</td>\n",
       "      <td>16184.022170</td>\n",
       "    </tr>\n",
       "    <tr>\n",
       "      <th>2025-01-13</th>\n",
       "      <td>94545.07</td>\n",
       "      <td>95940.00</td>\n",
       "      <td>89256.69</td>\n",
       "      <td>94536.10</td>\n",
       "      <td>42619.564230</td>\n",
       "      <td>red</td>\n",
       "      <td>-17828.675840</td>\n",
       "    </tr>\n",
       "    <tr>\n",
       "      <th>2025-01-14</th>\n",
       "      <td>94536.11</td>\n",
       "      <td>97371.00</td>\n",
       "      <td>94346.22</td>\n",
       "      <td>96560.86</td>\n",
       "      <td>27846.617530</td>\n",
       "      <td>green</td>\n",
       "      <td>-32601.622540</td>\n",
       "    </tr>\n",
       "    <tr>\n",
       "      <th>2025-01-15</th>\n",
       "      <td>96560.85</td>\n",
       "      <td>100681.94</td>\n",
       "      <td>96500.00</td>\n",
       "      <td>100497.35</td>\n",
       "      <td>30509.991790</td>\n",
       "      <td>green</td>\n",
       "      <td>-29938.248280</td>\n",
       "    </tr>\n",
       "    <tr>\n",
       "      <th>2025-01-16</th>\n",
       "      <td>100497.35</td>\n",
       "      <td>100866.66</td>\n",
       "      <td>97335.13</td>\n",
       "      <td>99987.30</td>\n",
       "      <td>27832.853170</td>\n",
       "      <td>red</td>\n",
       "      <td>-27261.109660</td>\n",
       "    </tr>\n",
       "    <tr>\n",
       "      <th>2025-01-17</th>\n",
       "      <td>99987.30</td>\n",
       "      <td>105865.22</td>\n",
       "      <td>99950.77</td>\n",
       "      <td>104077.48</td>\n",
       "      <td>39171.852920</td>\n",
       "      <td>green</td>\n",
       "      <td>-15922.109910</td>\n",
       "    </tr>\n",
       "    <tr>\n",
       "      <th>2025-01-18</th>\n",
       "      <td>104077.47</td>\n",
       "      <td>104988.88</td>\n",
       "      <td>102277.55</td>\n",
       "      <td>104556.23</td>\n",
       "      <td>24307.829980</td>\n",
       "      <td>green</td>\n",
       "      <td>-30786.132850</td>\n",
       "    </tr>\n",
       "    <tr>\n",
       "      <th>2025-01-19</th>\n",
       "      <td>104556.23</td>\n",
       "      <td>106422.43</td>\n",
       "      <td>99651.60</td>\n",
       "      <td>101331.57</td>\n",
       "      <td>43397.282980</td>\n",
       "      <td>red</td>\n",
       "      <td>-49875.585850</td>\n",
       "    </tr>\n",
       "    <tr>\n",
       "      <th>2025-01-20</th>\n",
       "      <td>101331.57</td>\n",
       "      <td>109588.00</td>\n",
       "      <td>99550.00</td>\n",
       "      <td>102260.01</td>\n",
       "      <td>89529.231732</td>\n",
       "      <td>green</td>\n",
       "      <td>-3743.637098</td>\n",
       "    </tr>\n",
       "    <tr>\n",
       "      <th>2025-01-21</th>\n",
       "      <td>102260.00</td>\n",
       "      <td>107240.81</td>\n",
       "      <td>100119.04</td>\n",
       "      <td>106143.82</td>\n",
       "      <td>45941.020020</td>\n",
       "      <td>green</td>\n",
       "      <td>-47331.848810</td>\n",
       "    </tr>\n",
       "    <tr>\n",
       "      <th>2025-01-22</th>\n",
       "      <td>106143.82</td>\n",
       "      <td>106394.46</td>\n",
       "      <td>103339.12</td>\n",
       "      <td>103706.66</td>\n",
       "      <td>22248.692540</td>\n",
       "      <td>red</td>\n",
       "      <td>-23639.521330</td>\n",
       "    </tr>\n",
       "    <tr>\n",
       "      <th>2025-01-23</th>\n",
       "      <td>103706.66</td>\n",
       "      <td>106850.00</td>\n",
       "      <td>101262.28</td>\n",
       "      <td>103910.34</td>\n",
       "      <td>53953.120310</td>\n",
       "      <td>green</td>\n",
       "      <td>8064.906440</td>\n",
       "    </tr>\n",
       "    <tr>\n",
       "      <th>2025-01-24</th>\n",
       "      <td>103910.35</td>\n",
       "      <td>107120.00</td>\n",
       "      <td>102750.00</td>\n",
       "      <td>104870.50</td>\n",
       "      <td>23609.240170</td>\n",
       "      <td>green</td>\n",
       "      <td>-22278.973700</td>\n",
       "    </tr>\n",
       "    <tr>\n",
       "      <th>2025-01-25</th>\n",
       "      <td>104870.51</td>\n",
       "      <td>105286.52</td>\n",
       "      <td>104106.09</td>\n",
       "      <td>104746.85</td>\n",
       "      <td>9068.323770</td>\n",
       "      <td>red</td>\n",
       "      <td>-7738.057300</td>\n",
       "    </tr>\n",
       "    <tr>\n",
       "      <th>2025-01-26</th>\n",
       "      <td>104746.86</td>\n",
       "      <td>105500.00</td>\n",
       "      <td>102520.44</td>\n",
       "      <td>102620.00</td>\n",
       "      <td>9812.512380</td>\n",
       "      <td>red</td>\n",
       "      <td>-8482.245910</td>\n",
       "    </tr>\n",
       "    <tr>\n",
       "      <th>2025-01-27</th>\n",
       "      <td>102620.01</td>\n",
       "      <td>103260.00</td>\n",
       "      <td>97777.77</td>\n",
       "      <td>102082.83</td>\n",
       "      <td>50758.134100</td>\n",
       "      <td>red</td>\n",
       "      <td>-49427.867630</td>\n",
       "    </tr>\n",
       "    <tr>\n",
       "      <th>2025-01-28</th>\n",
       "      <td>102082.83</td>\n",
       "      <td>103800.00</td>\n",
       "      <td>100272.68</td>\n",
       "      <td>101335.52</td>\n",
       "      <td>22022.057650</td>\n",
       "      <td>red</td>\n",
       "      <td>-20691.791180</td>\n",
       "    </tr>\n",
       "    <tr>\n",
       "      <th>2025-01-29</th>\n",
       "      <td>101335.52</td>\n",
       "      <td>101993.68</td>\n",
       "      <td>101328.01</td>\n",
       "      <td>101844.39</td>\n",
       "      <td>961.479800</td>\n",
       "      <td>green</td>\n",
       "      <td>-41752.369030</td>\n",
       "    </tr>\n",
       "  </tbody>\n",
       "</table>\n",
       "</div>"
      ],
      "text/plain": [
       "                 open       high        low      close        volume  color  \\\n",
       "timestamp                                                                     \n",
       "2024-12-31   92792.05   96250.00   92033.73   93576.00  19612.033890  green   \n",
       "2025-01-01   93576.00   95151.15   92888.00   94591.79  10373.326130  green   \n",
       "2025-01-02   94591.78   97839.50   94392.00   96984.79  21970.489480  green   \n",
       "2025-01-03   96984.79   98976.91   96100.01   98174.18  15253.829360  green   \n",
       "2025-01-04   98174.17   98778.43   97514.79   98220.50   8990.056510  green   \n",
       "2025-01-05   98220.51   98836.85   97276.79   98363.61   8095.637230  green   \n",
       "2025-01-06   98363.61  102480.00   97920.00  102235.60  25263.433750  green   \n",
       "2025-01-07  102235.60  102724.38   96181.81   96954.61  32059.875370    red   \n",
       "2025-01-08   96954.60   97268.65   92500.90   95060.61  33704.678940    red   \n",
       "2025-01-09   95060.61   95382.32   91203.67   92552.49  34544.836850    red   \n",
       "2025-01-10   92552.49   95836.00   92206.02   94726.11  31482.864240  green   \n",
       "2025-01-11   94726.10   95050.94   93831.73   94599.99   7047.904300    red   \n",
       "2025-01-12   94599.99   95450.10   93711.19   94545.06   8606.866220    red   \n",
       "2025-01-13   94545.07   95940.00   89256.69   94536.10  42619.564230    red   \n",
       "2025-01-14   94536.11   97371.00   94346.22   96560.86  27846.617530  green   \n",
       "2025-01-15   96560.85  100681.94   96500.00  100497.35  30509.991790  green   \n",
       "2025-01-16  100497.35  100866.66   97335.13   99987.30  27832.853170    red   \n",
       "2025-01-17   99987.30  105865.22   99950.77  104077.48  39171.852920  green   \n",
       "2025-01-18  104077.47  104988.88  102277.55  104556.23  24307.829980  green   \n",
       "2025-01-19  104556.23  106422.43   99651.60  101331.57  43397.282980    red   \n",
       "2025-01-20  101331.57  109588.00   99550.00  102260.01  89529.231732  green   \n",
       "2025-01-21  102260.00  107240.81  100119.04  106143.82  45941.020020  green   \n",
       "2025-01-22  106143.82  106394.46  103339.12  103706.66  22248.692540    red   \n",
       "2025-01-23  103706.66  106850.00  101262.28  103910.34  53953.120310  green   \n",
       "2025-01-24  103910.35  107120.00  102750.00  104870.50  23609.240170  green   \n",
       "2025-01-25  104870.51  105286.52  104106.09  104746.85   9068.323770    red   \n",
       "2025-01-26  104746.86  105500.00  102520.44  102620.00   9812.512380    red   \n",
       "2025-01-27  102620.01  103260.00   97777.77  102082.83  50758.134100    red   \n",
       "2025-01-28  102082.83  103800.00  100272.68  101335.52  22022.057650    red   \n",
       "2025-01-29  101335.52  101993.68  101328.01  101844.39    961.479800  green   \n",
       "\n",
       "                     obv  \n",
       "timestamp                 \n",
       "2024-12-31      0.000000  \n",
       "2025-01-01  -9238.707760  \n",
       "2025-01-02   2358.455590  \n",
       "2025-01-03  -4358.204530  \n",
       "2025-01-04 -10621.977380  \n",
       "2025-01-05 -11516.396660  \n",
       "2025-01-06   5651.399860  \n",
       "2025-01-07  -1145.041760  \n",
       "2025-01-08  -2789.845330  \n",
       "2025-01-09  -3630.003240  \n",
       "2025-01-10  -6691.975850  \n",
       "2025-01-11  17742.984090  \n",
       "2025-01-12  16184.022170  \n",
       "2025-01-13 -17828.675840  \n",
       "2025-01-14 -32601.622540  \n",
       "2025-01-15 -29938.248280  \n",
       "2025-01-16 -27261.109660  \n",
       "2025-01-17 -15922.109910  \n",
       "2025-01-18 -30786.132850  \n",
       "2025-01-19 -49875.585850  \n",
       "2025-01-20  -3743.637098  \n",
       "2025-01-21 -47331.848810  \n",
       "2025-01-22 -23639.521330  \n",
       "2025-01-23   8064.906440  \n",
       "2025-01-24 -22278.973700  \n",
       "2025-01-25  -7738.057300  \n",
       "2025-01-26  -8482.245910  \n",
       "2025-01-27 -49427.867630  \n",
       "2025-01-28 -20691.791180  \n",
       "2025-01-29 -41752.369030  "
      ]
     },
     "execution_count": 13,
     "metadata": {},
     "output_type": "execute_result"
    }
   ],
   "source": [
    "# klines = client.get_historical_klines(\"BTCUSDT\", Client.KLINE_INTERVAL_4HOUR, \"7 day ago UTC\")\n",
    "klines = client.get_historical_klines(\"BTCUSDT\", Client.KLINE_INTERVAL_1DAY , \"30 day ago UTC\")\n",
    "\n",
    "\n",
    "df = pd.DataFrame(klines, columns = ['timestamp', 'open', 'high', 'low', 'close', 'volume', 'close_time', 'quote_av', 'trades', 'tb_base_av', 'tb_quote_av', 'ignore'])\n",
    "df = df[['timestamp', 'open', 'high', 'low', 'close', 'volume']]\n",
    "\n",
    "df['timestamp'] = pd.to_datetime(df['timestamp'], unit='ms')\n",
    "df.set_index('timestamp', inplace=True)\n",
    "df = df.astype(float)\n",
    "df[\"color\"] = df.apply(lambda x: \"green\" if x['close'] > x['open'] else \"red\", axis=1)\n",
    "\n",
    "\n",
    "# Calculating On-Balance Volume\n",
    "\n",
    "df['obv'] = df['volume'].astype(float)\n",
    "df['obv'] = df['obv'].diff() # Calculate the difference in volume\n",
    "df.loc[df['close'] > df['open'], 'obv'] = df['obv'] # If the closing price is higher than the opening price, then the volume is positive\n",
    "df.loc[df['close'] < df['open'], 'obv'] = -df['obv'] # If the closing price is lower than the opening price, then the volume is negative\n",
    "df['obv'] = df['obv'].fillna(0).cumsum() # Fill in the NaN values with 0 and calculate the cumulative sum\n",
    "\n",
    "print(df.dtypes)\n",
    "\n",
    "df"
   ]
  },
  {
   "cell_type": "code",
   "execution_count": 21,
   "metadata": {},
   "outputs": [
    {
     "data": {
      "application/vnd.plotly.v1+json": {
       "config": {
        "plotlyServerURL": "https://plot.ly"
       },
       "data": [
        {
         "close": {
          "bdata": "AAAAAIDY9kA9Ctej/Bf3QD0K16OMrfdAFK5H4eL390AAAAAAyPr3QClcj8K5A/hAmpmZmbn1+EApXI/Cqav3QClcj8JJNfdAcT0K14eY9kApXI/CYSD3QHE9Ctd/GPdAXI/C9RAV90CamZmZgRT3QClcj8INk/dAmpmZmRWJ+EDNzMzMNGn4QOF6FK7XaPlA4XoUrsOG+UDsUbgeOb34QI/C9ShA9/hA7FG4Hv3p+UD2KFyPqlH5QArXo3BlXvlAAAAAAGia+UCamZmZrZL5QAAAAADADflAexSuRy3s+EAfhetReL34QNejcD1G3fhA",
          "dtype": "f8"
         },
         "high": {
          "bdata": "AAAAAKB/90BmZmZm8jr3QAAAAAD44vdA9ihcjw4q+EAUrkfhph34QJqZmZlNIfhAAAAAAAAF+UBI4XoURhT5QGZmZmZKv/dA7FG4HmVJ90AAAAAAwGX3QKRwPQqvNPdAmpmZmaFN90AAAAAAQGz3QAAAAACwxfdApHA9Cp+U+ED2KFyPKqD4QFK4HoWT2PlASOF6FM6h+UAUrkfhZvv5QAAAAABAwfpAXI/C9Ywu+kDD9Shcp/n5QAAAAAAgFvpAAAAAAAAn+kAfhetRaLT5QAAAAADAwflAAAAAAMA1+UAAAAAAgFf5QBSuR+Ga5vhA",
          "dtype": "f8"
         },
         "low": {
          "bdata": "4XoUrht49kAAAAAAgK32QAAAAACAC/dAj8L1KEB290A9CtejrM73QD0K16PMv/dAAAAAAADo90Bcj8L1XHv3QGZmZmZOlfZAhetRuDpE9kAfhetR4IL2QOF6FK576PZApHA9CvPg9kCkcD0Ki8r1QFK4HoWjCPdAAAAAAECP90BI4XoUcsP3QB+F61HsZvhAzczMzFj4+ECamZmZOVT4QAAAAADgTfhAPQrXo3Bx+EC4HoXrsTr5QK5H4XrkuPhAAAAAAOAV+UAK16NwoWr5QKRwPQqHB/lAH4XrURzf90AUrkfhCnv4QI/C9SgAvfhA",
          "dtype": "f8"
         },
         "open": {
          "bdata": "zczMzICn9kAAAAAAgNj2QK5H4Xr8F/dAPQrXo4yt90CF61G44vf3QI/C9SjI+vdAKVyPwrkD+ECamZmZufX4QJqZmZmpq/dAKVyPwkk190BxPQrXh5j2QJqZmZlhIPdAcT0K138Y90DsUbgeERX3QClcj8KBFPdAmpmZmQ2T90CamZmZFYn4QM3MzMw0afhAUrgehddo+UDhehSuw4b5QOxRuB45vfhAAAAAAED3+EDsUbge/en5QPYoXI+qUflAmpmZmWVe+UCPwvUoaJr5QClcj8KtkvlAj8L1KMAN+UB7FK5HLez4QB+F61F4vfhA",
          "dtype": "f8"
         },
         "type": "candlestick",
         "x": [
          "2024-12-31T00:00:00.000000000",
          "2025-01-01T00:00:00.000000000",
          "2025-01-02T00:00:00.000000000",
          "2025-01-03T00:00:00.000000000",
          "2025-01-04T00:00:00.000000000",
          "2025-01-05T00:00:00.000000000",
          "2025-01-06T00:00:00.000000000",
          "2025-01-07T00:00:00.000000000",
          "2025-01-08T00:00:00.000000000",
          "2025-01-09T00:00:00.000000000",
          "2025-01-10T00:00:00.000000000",
          "2025-01-11T00:00:00.000000000",
          "2025-01-12T00:00:00.000000000",
          "2025-01-13T00:00:00.000000000",
          "2025-01-14T00:00:00.000000000",
          "2025-01-15T00:00:00.000000000",
          "2025-01-16T00:00:00.000000000",
          "2025-01-17T00:00:00.000000000",
          "2025-01-18T00:00:00.000000000",
          "2025-01-19T00:00:00.000000000",
          "2025-01-20T00:00:00.000000000",
          "2025-01-21T00:00:00.000000000",
          "2025-01-22T00:00:00.000000000",
          "2025-01-23T00:00:00.000000000",
          "2025-01-24T00:00:00.000000000",
          "2025-01-25T00:00:00.000000000",
          "2025-01-26T00:00:00.000000000",
          "2025-01-27T00:00:00.000000000",
          "2025-01-28T00:00:00.000000000",
          "2025-01-29T00:00:00.000000000"
         ],
         "xaxis": "x",
         "yaxis": "y"
        },
        {
         "line": {
          "color": "Blue"
         },
         "name": "On-Balance Volume",
         "type": "scatter",
         "x": [
          "2024-12-31T00:00:00.000000000",
          "2025-01-01T00:00:00.000000000",
          "2025-01-02T00:00:00.000000000",
          "2025-01-03T00:00:00.000000000",
          "2025-01-04T00:00:00.000000000",
          "2025-01-05T00:00:00.000000000",
          "2025-01-06T00:00:00.000000000",
          "2025-01-07T00:00:00.000000000",
          "2025-01-08T00:00:00.000000000",
          "2025-01-09T00:00:00.000000000",
          "2025-01-10T00:00:00.000000000",
          "2025-01-11T00:00:00.000000000",
          "2025-01-12T00:00:00.000000000",
          "2025-01-13T00:00:00.000000000",
          "2025-01-14T00:00:00.000000000",
          "2025-01-15T00:00:00.000000000",
          "2025-01-16T00:00:00.000000000",
          "2025-01-17T00:00:00.000000000",
          "2025-01-18T00:00:00.000000000",
          "2025-01-19T00:00:00.000000000",
          "2025-01-20T00:00:00.000000000",
          "2025-01-21T00:00:00.000000000",
          "2025-01-22T00:00:00.000000000",
          "2025-01-23T00:00:00.000000000",
          "2025-01-24T00:00:00.000000000",
          "2025-01-25T00:00:00.000000000",
          "2025-01-26T00:00:00.000000000",
          "2025-01-27T00:00:00.000000000",
          "2025-01-28T00:00:00.000000000",
          "2025-01-29T00:00:00.000000000"
         ],
         "xaxis": "x2",
         "y": {
          "bdata": "AAAAAAAAAAC1MuGXWgvCwMisF0PpbKJADP0TXDQGscDhr8ka/b7EwNA/wcUyfsbA/JY5XWYTtkAgKSLDKuSRwKAAGM+wy6XAEFysqAFcrMDMO07R+SO6wJWfVPu+U9FAe3B31gKcz0BWavZAK2nRwB8Dstdn1t/AEszR44883cBtYKsER5/awMTnhxEOGc/AU0mdgIgQ3sDNf0i/clrowNCEtTFGP63A0pZzKXsc58AdgXhd4RXXwMCrcwzogL9ACc4ZUb7B1cAWejarDjq+wOSX+nkfkcDAYv2fw3si6MBRcLGi8jTUwKgAGM8LY+TA",
          "dtype": "f8"
         },
         "yaxis": "y2"
        },
        {
         "marker": {
          "color": [
           "green",
           "green",
           "green",
           "green",
           "green",
           "green",
           "green",
           "red",
           "red",
           "red",
           "green",
           "red",
           "red",
           "red",
           "green",
           "green",
           "red",
           "green",
           "green",
           "red",
           "green",
           "green",
           "red",
           "green",
           "green",
           "red",
           "red",
           "red",
           "red",
           "green"
          ]
         },
         "name": "Volume",
         "type": "bar",
         "x": [
          "2024-12-31T00:00:00.000000000",
          "2025-01-01T00:00:00.000000000",
          "2025-01-02T00:00:00.000000000",
          "2025-01-03T00:00:00.000000000",
          "2025-01-04T00:00:00.000000000",
          "2025-01-05T00:00:00.000000000",
          "2025-01-06T00:00:00.000000000",
          "2025-01-07T00:00:00.000000000",
          "2025-01-08T00:00:00.000000000",
          "2025-01-09T00:00:00.000000000",
          "2025-01-10T00:00:00.000000000",
          "2025-01-11T00:00:00.000000000",
          "2025-01-12T00:00:00.000000000",
          "2025-01-13T00:00:00.000000000",
          "2025-01-14T00:00:00.000000000",
          "2025-01-15T00:00:00.000000000",
          "2025-01-16T00:00:00.000000000",
          "2025-01-17T00:00:00.000000000",
          "2025-01-18T00:00:00.000000000",
          "2025-01-19T00:00:00.000000000",
          "2025-01-20T00:00:00.000000000",
          "2025-01-21T00:00:00.000000000",
          "2025-01-22T00:00:00.000000000",
          "2025-01-23T00:00:00.000000000",
          "2025-01-24T00:00:00.000000000",
          "2025-01-25T00:00:00.000000000",
          "2025-01-26T00:00:00.000000000",
          "2025-01-27T00:00:00.000000000",
          "2025-01-28T00:00:00.000000000",
          "2025-01-29T00:00:00.000000000"
         ],
         "xaxis": "x3",
         "y": {
          "bdata": "avZAKwIn00AfuqC+qULEQAPso1OfdNVATu53KOrKzUDzPLg7B4/BQAhagSGjn79AKVyPwtur2EB65A8G+E7fQP5g4LkVdeBAtaZ5xxre4ED5SbVPt77eQMZtNIDnh7tAkgVM4G7PwECuEiwOcs/kQJOMnIWnMdtAoMN8eX/L3UD7V1aaNi7bQEPiHkt7IONAFW9kHvW810CuEiwOqTDlQBedLLWT2/VAqfsApKBu5kDLSpNSLLrVQGxblNkjWOpA3/3xXk8O10C3nEtxKbbBQJD3qpVBKsNATRWMSsTI6EAnoImwg4HVQPfkYaHWC45A",
          "dtype": "f8"
         },
         "yaxis": "y3"
        }
       ],
       "layout": {
        "height": 1000,
        "shapes": [
         {
          "line": {
           "color": "black",
           "width": 2
          },
          "type": "line",
          "x0": "2024-12-31T00:00:00",
          "x1": "2025-01-29T00:00:00",
          "xref": "x2",
          "y0": 0,
          "y1": 0,
          "yref": "y2"
         }
        ],
        "template": {
         "data": {
          "bar": [
           {
            "error_x": {
             "color": "#2a3f5f"
            },
            "error_y": {
             "color": "#2a3f5f"
            },
            "marker": {
             "line": {
              "color": "#E5ECF6",
              "width": 0.5
             },
             "pattern": {
              "fillmode": "overlay",
              "size": 10,
              "solidity": 0.2
             }
            },
            "type": "bar"
           }
          ],
          "barpolar": [
           {
            "marker": {
             "line": {
              "color": "#E5ECF6",
              "width": 0.5
             },
             "pattern": {
              "fillmode": "overlay",
              "size": 10,
              "solidity": 0.2
             }
            },
            "type": "barpolar"
           }
          ],
          "carpet": [
           {
            "aaxis": {
             "endlinecolor": "#2a3f5f",
             "gridcolor": "white",
             "linecolor": "white",
             "minorgridcolor": "white",
             "startlinecolor": "#2a3f5f"
            },
            "baxis": {
             "endlinecolor": "#2a3f5f",
             "gridcolor": "white",
             "linecolor": "white",
             "minorgridcolor": "white",
             "startlinecolor": "#2a3f5f"
            },
            "type": "carpet"
           }
          ],
          "choropleth": [
           {
            "colorbar": {
             "outlinewidth": 0,
             "ticks": ""
            },
            "type": "choropleth"
           }
          ],
          "contour": [
           {
            "colorbar": {
             "outlinewidth": 0,
             "ticks": ""
            },
            "colorscale": [
             [
              0,
              "#0d0887"
             ],
             [
              0.1111111111111111,
              "#46039f"
             ],
             [
              0.2222222222222222,
              "#7201a8"
             ],
             [
              0.3333333333333333,
              "#9c179e"
             ],
             [
              0.4444444444444444,
              "#bd3786"
             ],
             [
              0.5555555555555556,
              "#d8576b"
             ],
             [
              0.6666666666666666,
              "#ed7953"
             ],
             [
              0.7777777777777778,
              "#fb9f3a"
             ],
             [
              0.8888888888888888,
              "#fdca26"
             ],
             [
              1,
              "#f0f921"
             ]
            ],
            "type": "contour"
           }
          ],
          "contourcarpet": [
           {
            "colorbar": {
             "outlinewidth": 0,
             "ticks": ""
            },
            "type": "contourcarpet"
           }
          ],
          "heatmap": [
           {
            "colorbar": {
             "outlinewidth": 0,
             "ticks": ""
            },
            "colorscale": [
             [
              0,
              "#0d0887"
             ],
             [
              0.1111111111111111,
              "#46039f"
             ],
             [
              0.2222222222222222,
              "#7201a8"
             ],
             [
              0.3333333333333333,
              "#9c179e"
             ],
             [
              0.4444444444444444,
              "#bd3786"
             ],
             [
              0.5555555555555556,
              "#d8576b"
             ],
             [
              0.6666666666666666,
              "#ed7953"
             ],
             [
              0.7777777777777778,
              "#fb9f3a"
             ],
             [
              0.8888888888888888,
              "#fdca26"
             ],
             [
              1,
              "#f0f921"
             ]
            ],
            "type": "heatmap"
           }
          ],
          "histogram": [
           {
            "marker": {
             "pattern": {
              "fillmode": "overlay",
              "size": 10,
              "solidity": 0.2
             }
            },
            "type": "histogram"
           }
          ],
          "histogram2d": [
           {
            "colorbar": {
             "outlinewidth": 0,
             "ticks": ""
            },
            "colorscale": [
             [
              0,
              "#0d0887"
             ],
             [
              0.1111111111111111,
              "#46039f"
             ],
             [
              0.2222222222222222,
              "#7201a8"
             ],
             [
              0.3333333333333333,
              "#9c179e"
             ],
             [
              0.4444444444444444,
              "#bd3786"
             ],
             [
              0.5555555555555556,
              "#d8576b"
             ],
             [
              0.6666666666666666,
              "#ed7953"
             ],
             [
              0.7777777777777778,
              "#fb9f3a"
             ],
             [
              0.8888888888888888,
              "#fdca26"
             ],
             [
              1,
              "#f0f921"
             ]
            ],
            "type": "histogram2d"
           }
          ],
          "histogram2dcontour": [
           {
            "colorbar": {
             "outlinewidth": 0,
             "ticks": ""
            },
            "colorscale": [
             [
              0,
              "#0d0887"
             ],
             [
              0.1111111111111111,
              "#46039f"
             ],
             [
              0.2222222222222222,
              "#7201a8"
             ],
             [
              0.3333333333333333,
              "#9c179e"
             ],
             [
              0.4444444444444444,
              "#bd3786"
             ],
             [
              0.5555555555555556,
              "#d8576b"
             ],
             [
              0.6666666666666666,
              "#ed7953"
             ],
             [
              0.7777777777777778,
              "#fb9f3a"
             ],
             [
              0.8888888888888888,
              "#fdca26"
             ],
             [
              1,
              "#f0f921"
             ]
            ],
            "type": "histogram2dcontour"
           }
          ],
          "mesh3d": [
           {
            "colorbar": {
             "outlinewidth": 0,
             "ticks": ""
            },
            "type": "mesh3d"
           }
          ],
          "parcoords": [
           {
            "line": {
             "colorbar": {
              "outlinewidth": 0,
              "ticks": ""
             }
            },
            "type": "parcoords"
           }
          ],
          "pie": [
           {
            "automargin": true,
            "type": "pie"
           }
          ],
          "scatter": [
           {
            "fillpattern": {
             "fillmode": "overlay",
             "size": 10,
             "solidity": 0.2
            },
            "type": "scatter"
           }
          ],
          "scatter3d": [
           {
            "line": {
             "colorbar": {
              "outlinewidth": 0,
              "ticks": ""
             }
            },
            "marker": {
             "colorbar": {
              "outlinewidth": 0,
              "ticks": ""
             }
            },
            "type": "scatter3d"
           }
          ],
          "scattercarpet": [
           {
            "marker": {
             "colorbar": {
              "outlinewidth": 0,
              "ticks": ""
             }
            },
            "type": "scattercarpet"
           }
          ],
          "scattergeo": [
           {
            "marker": {
             "colorbar": {
              "outlinewidth": 0,
              "ticks": ""
             }
            },
            "type": "scattergeo"
           }
          ],
          "scattergl": [
           {
            "marker": {
             "colorbar": {
              "outlinewidth": 0,
              "ticks": ""
             }
            },
            "type": "scattergl"
           }
          ],
          "scattermap": [
           {
            "marker": {
             "colorbar": {
              "outlinewidth": 0,
              "ticks": ""
             }
            },
            "type": "scattermap"
           }
          ],
          "scattermapbox": [
           {
            "marker": {
             "colorbar": {
              "outlinewidth": 0,
              "ticks": ""
             }
            },
            "type": "scattermapbox"
           }
          ],
          "scatterpolar": [
           {
            "marker": {
             "colorbar": {
              "outlinewidth": 0,
              "ticks": ""
             }
            },
            "type": "scatterpolar"
           }
          ],
          "scatterpolargl": [
           {
            "marker": {
             "colorbar": {
              "outlinewidth": 0,
              "ticks": ""
             }
            },
            "type": "scatterpolargl"
           }
          ],
          "scatterternary": [
           {
            "marker": {
             "colorbar": {
              "outlinewidth": 0,
              "ticks": ""
             }
            },
            "type": "scatterternary"
           }
          ],
          "surface": [
           {
            "colorbar": {
             "outlinewidth": 0,
             "ticks": ""
            },
            "colorscale": [
             [
              0,
              "#0d0887"
             ],
             [
              0.1111111111111111,
              "#46039f"
             ],
             [
              0.2222222222222222,
              "#7201a8"
             ],
             [
              0.3333333333333333,
              "#9c179e"
             ],
             [
              0.4444444444444444,
              "#bd3786"
             ],
             [
              0.5555555555555556,
              "#d8576b"
             ],
             [
              0.6666666666666666,
              "#ed7953"
             ],
             [
              0.7777777777777778,
              "#fb9f3a"
             ],
             [
              0.8888888888888888,
              "#fdca26"
             ],
             [
              1,
              "#f0f921"
             ]
            ],
            "type": "surface"
           }
          ],
          "table": [
           {
            "cells": {
             "fill": {
              "color": "#EBF0F8"
             },
             "line": {
              "color": "white"
             }
            },
            "header": {
             "fill": {
              "color": "#C8D4E3"
             },
             "line": {
              "color": "white"
             }
            },
            "type": "table"
           }
          ]
         },
         "layout": {
          "annotationdefaults": {
           "arrowcolor": "#2a3f5f",
           "arrowhead": 0,
           "arrowwidth": 1
          },
          "autotypenumbers": "strict",
          "coloraxis": {
           "colorbar": {
            "outlinewidth": 0,
            "ticks": ""
           }
          },
          "colorscale": {
           "diverging": [
            [
             0,
             "#8e0152"
            ],
            [
             0.1,
             "#c51b7d"
            ],
            [
             0.2,
             "#de77ae"
            ],
            [
             0.3,
             "#f1b6da"
            ],
            [
             0.4,
             "#fde0ef"
            ],
            [
             0.5,
             "#f7f7f7"
            ],
            [
             0.6,
             "#e6f5d0"
            ],
            [
             0.7,
             "#b8e186"
            ],
            [
             0.8,
             "#7fbc41"
            ],
            [
             0.9,
             "#4d9221"
            ],
            [
             1,
             "#276419"
            ]
           ],
           "sequential": [
            [
             0,
             "#0d0887"
            ],
            [
             0.1111111111111111,
             "#46039f"
            ],
            [
             0.2222222222222222,
             "#7201a8"
            ],
            [
             0.3333333333333333,
             "#9c179e"
            ],
            [
             0.4444444444444444,
             "#bd3786"
            ],
            [
             0.5555555555555556,
             "#d8576b"
            ],
            [
             0.6666666666666666,
             "#ed7953"
            ],
            [
             0.7777777777777778,
             "#fb9f3a"
            ],
            [
             0.8888888888888888,
             "#fdca26"
            ],
            [
             1,
             "#f0f921"
            ]
           ],
           "sequentialminus": [
            [
             0,
             "#0d0887"
            ],
            [
             0.1111111111111111,
             "#46039f"
            ],
            [
             0.2222222222222222,
             "#7201a8"
            ],
            [
             0.3333333333333333,
             "#9c179e"
            ],
            [
             0.4444444444444444,
             "#bd3786"
            ],
            [
             0.5555555555555556,
             "#d8576b"
            ],
            [
             0.6666666666666666,
             "#ed7953"
            ],
            [
             0.7777777777777778,
             "#fb9f3a"
            ],
            [
             0.8888888888888888,
             "#fdca26"
            ],
            [
             1,
             "#f0f921"
            ]
           ]
          },
          "colorway": [
           "#636efa",
           "#EF553B",
           "#00cc96",
           "#ab63fa",
           "#FFA15A",
           "#19d3f3",
           "#FF6692",
           "#B6E880",
           "#FF97FF",
           "#FECB52"
          ],
          "font": {
           "color": "#2a3f5f"
          },
          "geo": {
           "bgcolor": "white",
           "lakecolor": "white",
           "landcolor": "#E5ECF6",
           "showlakes": true,
           "showland": true,
           "subunitcolor": "white"
          },
          "hoverlabel": {
           "align": "left"
          },
          "hovermode": "closest",
          "mapbox": {
           "style": "light"
          },
          "paper_bgcolor": "white",
          "plot_bgcolor": "#E5ECF6",
          "polar": {
           "angularaxis": {
            "gridcolor": "white",
            "linecolor": "white",
            "ticks": ""
           },
           "bgcolor": "#E5ECF6",
           "radialaxis": {
            "gridcolor": "white",
            "linecolor": "white",
            "ticks": ""
           }
          },
          "scene": {
           "xaxis": {
            "backgroundcolor": "#E5ECF6",
            "gridcolor": "white",
            "gridwidth": 2,
            "linecolor": "white",
            "showbackground": true,
            "ticks": "",
            "zerolinecolor": "white"
           },
           "yaxis": {
            "backgroundcolor": "#E5ECF6",
            "gridcolor": "white",
            "gridwidth": 2,
            "linecolor": "white",
            "showbackground": true,
            "ticks": "",
            "zerolinecolor": "white"
           },
           "zaxis": {
            "backgroundcolor": "#E5ECF6",
            "gridcolor": "white",
            "gridwidth": 2,
            "linecolor": "white",
            "showbackground": true,
            "ticks": "",
            "zerolinecolor": "white"
           }
          },
          "shapedefaults": {
           "line": {
            "color": "#2a3f5f"
           }
          },
          "ternary": {
           "aaxis": {
            "gridcolor": "white",
            "linecolor": "white",
            "ticks": ""
           },
           "baxis": {
            "gridcolor": "white",
            "linecolor": "white",
            "ticks": ""
           },
           "bgcolor": "#E5ECF6",
           "caxis": {
            "gridcolor": "white",
            "linecolor": "white",
            "ticks": ""
           }
          },
          "title": {
           "x": 0.05
          },
          "xaxis": {
           "automargin": true,
           "gridcolor": "white",
           "linecolor": "white",
           "ticks": "",
           "title": {
            "standoff": 15
           },
           "zerolinecolor": "white",
           "zerolinewidth": 2
          },
          "yaxis": {
           "automargin": true,
           "gridcolor": "white",
           "linecolor": "white",
           "ticks": "",
           "title": {
            "standoff": 15
           },
           "zerolinecolor": "white",
           "zerolinewidth": 2
          }
         }
        },
        "title": {
         "text": "Candlestick Chart with Volume OBV"
        },
        "xaxis": {
         "anchor": "y",
         "domain": [
          0,
          1
         ],
         "matches": "x3",
         "rangeslider": {
          "visible": false
         },
         "showticklabels": false,
         "title": {
          "text": "Time"
         }
        },
        "xaxis2": {
         "anchor": "y2",
         "domain": [
          0,
          1
         ],
         "matches": "x3",
         "showticklabels": false
        },
        "xaxis3": {
         "anchor": "y3",
         "domain": [
          0,
          1
         ]
        },
        "yaxis": {
         "anchor": "x",
         "domain": [
          0.68,
          1
         ]
        },
        "yaxis2": {
         "anchor": "x2",
         "domain": [
          0.34,
          0.66
         ]
        },
        "yaxis3": {
         "anchor": "x3",
         "domain": [
          0,
          0.32
         ]
        }
       }
      }
     },
     "metadata": {},
     "output_type": "display_data"
    }
   ],
   "source": [
    "import plotly.graph_objects as go\n",
    "from plotly.subplots import make_subplots\n",
    "\n",
    "from datetime import datetime\n",
    "\n",
    "fig = make_subplots(rows=3, cols=1, shared_xaxes=True, vertical_spacing=0.02)\n",
    "\n",
    "fig.add_trace(go.Candlestick(x=df.index,\n",
    "                open=df['open'],\n",
    "                high=df['high'],\n",
    "                low=df['low'],\n",
    "                close=df['close']\n",
    "                ), row=1, col=1)\n",
    "\n",
    "\n",
    "fig.add_trace(go.Scatter(x=df.index,\n",
    "                            y=df['obv'],\n",
    "                            name='On-Balance Volume',\n",
    "                            line=dict(color='Blue')\n",
    "                            )\n",
    "                , row=2, col=1)\n",
    "\n",
    "# draw an horizonal line at y=0\n",
    "fig.add_shape(\n",
    "        dict(\n",
    "            type=\"line\",\n",
    "            x0=df.index[0],\n",
    "            y0=0,\n",
    "            x1=df.index[-1],\n",
    "            y1=0,\n",
    "            line=dict(\n",
    "                color=\"black\",\n",
    "                width=2\n",
    "            )\n",
    "), row=2, col=1)\n",
    "\n",
    "\n",
    "fig.add_trace(go.Bar(x=df.index, \n",
    "                     y=df['volume'], \n",
    "                     name='Volume', \n",
    "                     marker=dict(color=df['color'])\n",
    "                     )\n",
    "            , row=3, col=1)\n",
    "\n",
    "\n",
    "fig.update_layout(\n",
    "    title=\"Candlestick Chart with Volume OBV\",\n",
    "    xaxis_title=\"Time\",\n",
    "    xaxis_rangeslider_visible=False,\n",
    "    height=1000,\n",
    "    \n",
    ")\n",
    "\n",
    "fig.show()"
   ]
  },
  {
   "cell_type": "code",
   "execution_count": 16,
   "metadata": {},
   "outputs": [
    {
     "name": "stdout",
     "output_type": "stream",
     "text": [
      "last_obv: {last_obv}\n",
      "Bears won\n"
     ]
    }
   ],
   "source": [
    "# last obv value\n",
    "\n",
    "last_obv = df['obv'].iloc[-1]\n",
    "print(\"last_obv: {last_obv}\")\n",
    "\n",
    "if last_obv > 0:\n",
    "    print(\"Bulls won\")\n",
    "else:\n",
    "    print(\"Bears won\")\n",
    "    "
   ]
  },
  {
   "cell_type": "code",
   "execution_count": null,
   "metadata": {},
   "outputs": [],
   "source": []
  }
 ],
 "metadata": {
  "kernelspec": {
   "display_name": "Python 3",
   "language": "python",
   "name": "python3"
  },
  "language_info": {
   "codemirror_mode": {
    "name": "ipython",
    "version": 3
   },
   "file_extension": ".py",
   "mimetype": "text/x-python",
   "name": "python",
   "nbconvert_exporter": "python",
   "pygments_lexer": "ipython3",
   "version": "3.10.0"
  }
 },
 "nbformat": 4,
 "nbformat_minor": 2
}
