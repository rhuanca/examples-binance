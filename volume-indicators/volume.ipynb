{
 "cells": [
  {
   "cell_type": "code",
   "execution_count": 46,
   "metadata": {},
   "outputs": [],
   "source": [
    "import os\n",
    "from binance.client import Client\n",
    "import pandas as pd\n",
    "\n",
    "# Binance API Credentials\n",
    "api_key = os.getenv(\"BINANCE_API_KEY\")\n",
    "api_secret = os.getenv(\"BINANCE_API_SECRET\")"
   ]
  },
  {
   "cell_type": "code",
   "execution_count": 47,
   "metadata": {},
   "outputs": [],
   "source": [
    "# Intialize Client\n",
    "client = Client(api_key, api_secret)"
   ]
  },
  {
   "cell_type": "code",
   "execution_count": 52,
   "metadata": {},
   "outputs": [
    {
     "name": "stdout",
     "output_type": "stream",
     "text": [
      "open      float64\n",
      "high      float64\n",
      "low       float64\n",
      "close     float64\n",
      "volume    float64\n",
      "color      object\n",
      "dtype: object\n"
     ]
    },
    {
     "data": {
      "text/html": [
       "<div>\n",
       "<style scoped>\n",
       "    .dataframe tbody tr th:only-of-type {\n",
       "        vertical-align: middle;\n",
       "    }\n",
       "\n",
       "    .dataframe tbody tr th {\n",
       "        vertical-align: top;\n",
       "    }\n",
       "\n",
       "    .dataframe thead th {\n",
       "        text-align: right;\n",
       "    }\n",
       "</style>\n",
       "<table border=\"1\" class=\"dataframe\">\n",
       "  <thead>\n",
       "    <tr style=\"text-align: right;\">\n",
       "      <th></th>\n",
       "      <th>open</th>\n",
       "      <th>high</th>\n",
       "      <th>low</th>\n",
       "      <th>close</th>\n",
       "      <th>volume</th>\n",
       "      <th>color</th>\n",
       "    </tr>\n",
       "    <tr>\n",
       "      <th>timestamp</th>\n",
       "      <th></th>\n",
       "      <th></th>\n",
       "      <th></th>\n",
       "      <th></th>\n",
       "      <th></th>\n",
       "      <th></th>\n",
       "    </tr>\n",
       "  </thead>\n",
       "  <tbody>\n",
       "    <tr>\n",
       "      <th>2025-01-22 04:00:00</th>\n",
       "      <td>105600.01</td>\n",
       "      <td>105952.00</td>\n",
       "      <td>105043.88</td>\n",
       "      <td>105084.77</td>\n",
       "      <td>2894.59275</td>\n",
       "      <td>red</td>\n",
       "    </tr>\n",
       "    <tr>\n",
       "      <th>2025-01-22 08:00:00</th>\n",
       "      <td>105084.77</td>\n",
       "      <td>105464.83</td>\n",
       "      <td>104647.75</td>\n",
       "      <td>105100.39</td>\n",
       "      <td>3008.01462</td>\n",
       "      <td>green</td>\n",
       "    </tr>\n",
       "    <tr>\n",
       "      <th>2025-01-22 12:00:00</th>\n",
       "      <td>105100.38</td>\n",
       "      <td>105584.23</td>\n",
       "      <td>103662.58</td>\n",
       "      <td>104180.01</td>\n",
       "      <td>6007.84866</td>\n",
       "      <td>red</td>\n",
       "    </tr>\n",
       "    <tr>\n",
       "      <th>2025-01-22 16:00:00</th>\n",
       "      <td>104180.01</td>\n",
       "      <td>104754.64</td>\n",
       "      <td>103339.12</td>\n",
       "      <td>104630.00</td>\n",
       "      <td>4362.47109</td>\n",
       "      <td>green</td>\n",
       "    </tr>\n",
       "    <tr>\n",
       "      <th>2025-01-22 20:00:00</th>\n",
       "      <td>104630.00</td>\n",
       "      <td>104830.12</td>\n",
       "      <td>103611.66</td>\n",
       "      <td>103706.66</td>\n",
       "      <td>2956.50709</td>\n",
       "      <td>red</td>\n",
       "    </tr>\n",
       "    <tr>\n",
       "      <th>2025-01-23 00:00:00</th>\n",
       "      <td>103706.66</td>\n",
       "      <td>103819.99</td>\n",
       "      <td>102100.00</td>\n",
       "      <td>102461.25</td>\n",
       "      <td>4960.28164</td>\n",
       "      <td>red</td>\n",
       "    </tr>\n",
       "    <tr>\n",
       "      <th>2025-01-23 04:00:00</th>\n",
       "      <td>102461.24</td>\n",
       "      <td>102968.31</td>\n",
       "      <td>101575.50</td>\n",
       "      <td>102710.27</td>\n",
       "      <td>3922.18053</td>\n",
       "      <td>green</td>\n",
       "    </tr>\n",
       "    <tr>\n",
       "      <th>2025-01-23 08:00:00</th>\n",
       "      <td>102710.28</td>\n",
       "      <td>102724.94</td>\n",
       "      <td>101262.28</td>\n",
       "      <td>101944.49</td>\n",
       "      <td>3213.96175</td>\n",
       "      <td>red</td>\n",
       "    </tr>\n",
       "    <tr>\n",
       "      <th>2025-01-23 12:00:00</th>\n",
       "      <td>101944.50</td>\n",
       "      <td>106050.86</td>\n",
       "      <td>101281.62</td>\n",
       "      <td>105263.52</td>\n",
       "      <td>17241.02811</td>\n",
       "      <td>green</td>\n",
       "    </tr>\n",
       "    <tr>\n",
       "      <th>2025-01-23 16:00:00</th>\n",
       "      <td>105263.52</td>\n",
       "      <td>106850.00</td>\n",
       "      <td>103399.98</td>\n",
       "      <td>103770.04</td>\n",
       "      <td>10175.26517</td>\n",
       "      <td>red</td>\n",
       "    </tr>\n",
       "    <tr>\n",
       "      <th>2025-01-23 20:00:00</th>\n",
       "      <td>103770.05</td>\n",
       "      <td>106421.03</td>\n",
       "      <td>102195.70</td>\n",
       "      <td>103910.34</td>\n",
       "      <td>14440.40311</td>\n",
       "      <td>green</td>\n",
       "    </tr>\n",
       "    <tr>\n",
       "      <th>2025-01-24 00:00:00</th>\n",
       "      <td>103910.35</td>\n",
       "      <td>104298.00</td>\n",
       "      <td>102750.00</td>\n",
       "      <td>103891.75</td>\n",
       "      <td>3785.23369</td>\n",
       "      <td>red</td>\n",
       "    </tr>\n",
       "    <tr>\n",
       "      <th>2025-01-24 04:00:00</th>\n",
       "      <td>103891.75</td>\n",
       "      <td>105355.00</td>\n",
       "      <td>103804.77</td>\n",
       "      <td>105046.80</td>\n",
       "      <td>3142.49691</td>\n",
       "      <td>green</td>\n",
       "    </tr>\n",
       "    <tr>\n",
       "      <th>2025-01-24 08:00:00</th>\n",
       "      <td>105046.79</td>\n",
       "      <td>105759.00</td>\n",
       "      <td>104922.41</td>\n",
       "      <td>105420.10</td>\n",
       "      <td>2980.39420</td>\n",
       "      <td>green</td>\n",
       "    </tr>\n",
       "    <tr>\n",
       "      <th>2025-01-24 12:00:00</th>\n",
       "      <td>105420.11</td>\n",
       "      <td>106321.66</td>\n",
       "      <td>104669.17</td>\n",
       "      <td>105859.98</td>\n",
       "      <td>4922.31503</td>\n",
       "      <td>green</td>\n",
       "    </tr>\n",
       "    <tr>\n",
       "      <th>2025-01-24 16:00:00</th>\n",
       "      <td>105859.99</td>\n",
       "      <td>107120.00</td>\n",
       "      <td>105589.00</td>\n",
       "      <td>105760.94</td>\n",
       "      <td>5483.37032</td>\n",
       "      <td>red</td>\n",
       "    </tr>\n",
       "    <tr>\n",
       "      <th>2025-01-24 20:00:00</th>\n",
       "      <td>105760.93</td>\n",
       "      <td>105781.00</td>\n",
       "      <td>104456.89</td>\n",
       "      <td>104870.50</td>\n",
       "      <td>3295.43002</td>\n",
       "      <td>red</td>\n",
       "    </tr>\n",
       "    <tr>\n",
       "      <th>2025-01-25 00:00:00</th>\n",
       "      <td>104870.51</td>\n",
       "      <td>105280.82</td>\n",
       "      <td>104361.89</td>\n",
       "      <td>105202.40</td>\n",
       "      <td>2029.85839</td>\n",
       "      <td>green</td>\n",
       "    </tr>\n",
       "    <tr>\n",
       "      <th>2025-01-25 04:00:00</th>\n",
       "      <td>105202.40</td>\n",
       "      <td>105202.40</td>\n",
       "      <td>104216.81</td>\n",
       "      <td>104385.98</td>\n",
       "      <td>1407.20452</td>\n",
       "      <td>red</td>\n",
       "    </tr>\n",
       "    <tr>\n",
       "      <th>2025-01-25 08:00:00</th>\n",
       "      <td>104385.99</td>\n",
       "      <td>104700.01</td>\n",
       "      <td>104106.09</td>\n",
       "      <td>104670.99</td>\n",
       "      <td>1254.59690</td>\n",
       "      <td>green</td>\n",
       "    </tr>\n",
       "    <tr>\n",
       "      <th>2025-01-25 12:00:00</th>\n",
       "      <td>104670.99</td>\n",
       "      <td>105111.11</td>\n",
       "      <td>104456.00</td>\n",
       "      <td>104897.79</td>\n",
       "      <td>1464.11662</td>\n",
       "      <td>green</td>\n",
       "    </tr>\n",
       "    <tr>\n",
       "      <th>2025-01-25 16:00:00</th>\n",
       "      <td>104897.79</td>\n",
       "      <td>105286.52</td>\n",
       "      <td>104449.75</td>\n",
       "      <td>105055.16</td>\n",
       "      <td>1831.57775</td>\n",
       "      <td>green</td>\n",
       "    </tr>\n",
       "    <tr>\n",
       "      <th>2025-01-25 20:00:00</th>\n",
       "      <td>105055.16</td>\n",
       "      <td>105250.00</td>\n",
       "      <td>104696.00</td>\n",
       "      <td>104746.85</td>\n",
       "      <td>1080.96959</td>\n",
       "      <td>red</td>\n",
       "    </tr>\n",
       "    <tr>\n",
       "      <th>2025-01-26 00:00:00</th>\n",
       "      <td>104746.86</td>\n",
       "      <td>105273.24</td>\n",
       "      <td>104503.70</td>\n",
       "      <td>105062.42</td>\n",
       "      <td>1315.60742</td>\n",
       "      <td>green</td>\n",
       "    </tr>\n",
       "    <tr>\n",
       "      <th>2025-01-26 04:00:00</th>\n",
       "      <td>105062.41</td>\n",
       "      <td>105500.00</td>\n",
       "      <td>104950.00</td>\n",
       "      <td>104998.35</td>\n",
       "      <td>1228.94709</td>\n",
       "      <td>red</td>\n",
       "    </tr>\n",
       "    <tr>\n",
       "      <th>2025-01-26 08:00:00</th>\n",
       "      <td>104998.36</td>\n",
       "      <td>105221.36</td>\n",
       "      <td>104444.01</td>\n",
       "      <td>104818.69</td>\n",
       "      <td>1340.56686</td>\n",
       "      <td>red</td>\n",
       "    </tr>\n",
       "    <tr>\n",
       "      <th>2025-01-26 12:00:00</th>\n",
       "      <td>104818.68</td>\n",
       "      <td>105126.11</td>\n",
       "      <td>104703.58</td>\n",
       "      <td>104967.01</td>\n",
       "      <td>1136.95799</td>\n",
       "      <td>green</td>\n",
       "    </tr>\n",
       "    <tr>\n",
       "      <th>2025-01-26 16:00:00</th>\n",
       "      <td>104967.02</td>\n",
       "      <td>105260.36</td>\n",
       "      <td>104896.00</td>\n",
       "      <td>105081.63</td>\n",
       "      <td>866.43502</td>\n",
       "      <td>green</td>\n",
       "    </tr>\n",
       "    <tr>\n",
       "      <th>2025-01-26 20:00:00</th>\n",
       "      <td>105081.64</td>\n",
       "      <td>105200.00</td>\n",
       "      <td>102520.44</td>\n",
       "      <td>102620.00</td>\n",
       "      <td>3923.99800</td>\n",
       "      <td>red</td>\n",
       "    </tr>\n",
       "    <tr>\n",
       "      <th>2025-01-27 00:00:00</th>\n",
       "      <td>102620.01</td>\n",
       "      <td>103260.00</td>\n",
       "      <td>100720.53</td>\n",
       "      <td>101395.64</td>\n",
       "      <td>8353.88719</td>\n",
       "      <td>red</td>\n",
       "    </tr>\n",
       "    <tr>\n",
       "      <th>2025-01-27 04:00:00</th>\n",
       "      <td>101395.64</td>\n",
       "      <td>101399.99</td>\n",
       "      <td>97777.77</td>\n",
       "      <td>99048.02</td>\n",
       "      <td>12651.63419</td>\n",
       "      <td>red</td>\n",
       "    </tr>\n",
       "    <tr>\n",
       "      <th>2025-01-27 08:00:00</th>\n",
       "      <td>99048.01</td>\n",
       "      <td>99533.33</td>\n",
       "      <td>98263.49</td>\n",
       "      <td>98761.13</td>\n",
       "      <td>6790.38919</td>\n",
       "      <td>red</td>\n",
       "    </tr>\n",
       "    <tr>\n",
       "      <th>2025-01-27 12:00:00</th>\n",
       "      <td>98761.12</td>\n",
       "      <td>102317.94</td>\n",
       "      <td>98714.28</td>\n",
       "      <td>101112.03</td>\n",
       "      <td>11346.07460</td>\n",
       "      <td>green</td>\n",
       "    </tr>\n",
       "    <tr>\n",
       "      <th>2025-01-27 16:00:00</th>\n",
       "      <td>101112.03</td>\n",
       "      <td>101250.56</td>\n",
       "      <td>98864.00</td>\n",
       "      <td>99700.02</td>\n",
       "      <td>6873.59773</td>\n",
       "      <td>red</td>\n",
       "    </tr>\n",
       "    <tr>\n",
       "      <th>2025-01-27 20:00:00</th>\n",
       "      <td>99700.01</td>\n",
       "      <td>102405.00</td>\n",
       "      <td>99606.46</td>\n",
       "      <td>102082.83</td>\n",
       "      <td>4742.55120</td>\n",
       "      <td>green</td>\n",
       "    </tr>\n",
       "    <tr>\n",
       "      <th>2025-01-28 00:00:00</th>\n",
       "      <td>102082.83</td>\n",
       "      <td>102892.00</td>\n",
       "      <td>101334.55</td>\n",
       "      <td>102636.32</td>\n",
       "      <td>3670.23637</td>\n",
       "      <td>green</td>\n",
       "    </tr>\n",
       "    <tr>\n",
       "      <th>2025-01-28 04:00:00</th>\n",
       "      <td>102636.32</td>\n",
       "      <td>103371.24</td>\n",
       "      <td>102527.39</td>\n",
       "      <td>102789.72</td>\n",
       "      <td>2654.45746</td>\n",
       "      <td>green</td>\n",
       "    </tr>\n",
       "    <tr>\n",
       "      <th>2025-01-28 08:00:00</th>\n",
       "      <td>102789.72</td>\n",
       "      <td>103181.82</td>\n",
       "      <td>102393.94</td>\n",
       "      <td>102762.01</td>\n",
       "      <td>2051.60214</td>\n",
       "      <td>red</td>\n",
       "    </tr>\n",
       "    <tr>\n",
       "      <th>2025-01-28 12:00:00</th>\n",
       "      <td>102762.02</td>\n",
       "      <td>103800.00</td>\n",
       "      <td>101815.26</td>\n",
       "      <td>102777.99</td>\n",
       "      <td>5106.45100</td>\n",
       "      <td>green</td>\n",
       "    </tr>\n",
       "    <tr>\n",
       "      <th>2025-01-28 16:00:00</th>\n",
       "      <td>102777.99</td>\n",
       "      <td>103108.00</td>\n",
       "      <td>101820.15</td>\n",
       "      <td>102424.24</td>\n",
       "      <td>4696.05403</td>\n",
       "      <td>red</td>\n",
       "    </tr>\n",
       "    <tr>\n",
       "      <th>2025-01-28 20:00:00</th>\n",
       "      <td>102424.24</td>\n",
       "      <td>102538.00</td>\n",
       "      <td>100272.68</td>\n",
       "      <td>101335.52</td>\n",
       "      <td>3843.25665</td>\n",
       "      <td>red</td>\n",
       "    </tr>\n",
       "    <tr>\n",
       "      <th>2025-01-29 00:00:00</th>\n",
       "      <td>101335.52</td>\n",
       "      <td>101993.68</td>\n",
       "      <td>101328.01</td>\n",
       "      <td>101635.27</td>\n",
       "      <td>670.87764</td>\n",
       "      <td>green</td>\n",
       "    </tr>\n",
       "  </tbody>\n",
       "</table>\n",
       "</div>"
      ],
      "text/plain": [
       "                          open       high        low      close       volume  \\\n",
       "timestamp                                                                      \n",
       "2025-01-22 04:00:00  105600.01  105952.00  105043.88  105084.77   2894.59275   \n",
       "2025-01-22 08:00:00  105084.77  105464.83  104647.75  105100.39   3008.01462   \n",
       "2025-01-22 12:00:00  105100.38  105584.23  103662.58  104180.01   6007.84866   \n",
       "2025-01-22 16:00:00  104180.01  104754.64  103339.12  104630.00   4362.47109   \n",
       "2025-01-22 20:00:00  104630.00  104830.12  103611.66  103706.66   2956.50709   \n",
       "2025-01-23 00:00:00  103706.66  103819.99  102100.00  102461.25   4960.28164   \n",
       "2025-01-23 04:00:00  102461.24  102968.31  101575.50  102710.27   3922.18053   \n",
       "2025-01-23 08:00:00  102710.28  102724.94  101262.28  101944.49   3213.96175   \n",
       "2025-01-23 12:00:00  101944.50  106050.86  101281.62  105263.52  17241.02811   \n",
       "2025-01-23 16:00:00  105263.52  106850.00  103399.98  103770.04  10175.26517   \n",
       "2025-01-23 20:00:00  103770.05  106421.03  102195.70  103910.34  14440.40311   \n",
       "2025-01-24 00:00:00  103910.35  104298.00  102750.00  103891.75   3785.23369   \n",
       "2025-01-24 04:00:00  103891.75  105355.00  103804.77  105046.80   3142.49691   \n",
       "2025-01-24 08:00:00  105046.79  105759.00  104922.41  105420.10   2980.39420   \n",
       "2025-01-24 12:00:00  105420.11  106321.66  104669.17  105859.98   4922.31503   \n",
       "2025-01-24 16:00:00  105859.99  107120.00  105589.00  105760.94   5483.37032   \n",
       "2025-01-24 20:00:00  105760.93  105781.00  104456.89  104870.50   3295.43002   \n",
       "2025-01-25 00:00:00  104870.51  105280.82  104361.89  105202.40   2029.85839   \n",
       "2025-01-25 04:00:00  105202.40  105202.40  104216.81  104385.98   1407.20452   \n",
       "2025-01-25 08:00:00  104385.99  104700.01  104106.09  104670.99   1254.59690   \n",
       "2025-01-25 12:00:00  104670.99  105111.11  104456.00  104897.79   1464.11662   \n",
       "2025-01-25 16:00:00  104897.79  105286.52  104449.75  105055.16   1831.57775   \n",
       "2025-01-25 20:00:00  105055.16  105250.00  104696.00  104746.85   1080.96959   \n",
       "2025-01-26 00:00:00  104746.86  105273.24  104503.70  105062.42   1315.60742   \n",
       "2025-01-26 04:00:00  105062.41  105500.00  104950.00  104998.35   1228.94709   \n",
       "2025-01-26 08:00:00  104998.36  105221.36  104444.01  104818.69   1340.56686   \n",
       "2025-01-26 12:00:00  104818.68  105126.11  104703.58  104967.01   1136.95799   \n",
       "2025-01-26 16:00:00  104967.02  105260.36  104896.00  105081.63    866.43502   \n",
       "2025-01-26 20:00:00  105081.64  105200.00  102520.44  102620.00   3923.99800   \n",
       "2025-01-27 00:00:00  102620.01  103260.00  100720.53  101395.64   8353.88719   \n",
       "2025-01-27 04:00:00  101395.64  101399.99   97777.77   99048.02  12651.63419   \n",
       "2025-01-27 08:00:00   99048.01   99533.33   98263.49   98761.13   6790.38919   \n",
       "2025-01-27 12:00:00   98761.12  102317.94   98714.28  101112.03  11346.07460   \n",
       "2025-01-27 16:00:00  101112.03  101250.56   98864.00   99700.02   6873.59773   \n",
       "2025-01-27 20:00:00   99700.01  102405.00   99606.46  102082.83   4742.55120   \n",
       "2025-01-28 00:00:00  102082.83  102892.00  101334.55  102636.32   3670.23637   \n",
       "2025-01-28 04:00:00  102636.32  103371.24  102527.39  102789.72   2654.45746   \n",
       "2025-01-28 08:00:00  102789.72  103181.82  102393.94  102762.01   2051.60214   \n",
       "2025-01-28 12:00:00  102762.02  103800.00  101815.26  102777.99   5106.45100   \n",
       "2025-01-28 16:00:00  102777.99  103108.00  101820.15  102424.24   4696.05403   \n",
       "2025-01-28 20:00:00  102424.24  102538.00  100272.68  101335.52   3843.25665   \n",
       "2025-01-29 00:00:00  101335.52  101993.68  101328.01  101635.27    670.87764   \n",
       "\n",
       "                     color  \n",
       "timestamp                   \n",
       "2025-01-22 04:00:00    red  \n",
       "2025-01-22 08:00:00  green  \n",
       "2025-01-22 12:00:00    red  \n",
       "2025-01-22 16:00:00  green  \n",
       "2025-01-22 20:00:00    red  \n",
       "2025-01-23 00:00:00    red  \n",
       "2025-01-23 04:00:00  green  \n",
       "2025-01-23 08:00:00    red  \n",
       "2025-01-23 12:00:00  green  \n",
       "2025-01-23 16:00:00    red  \n",
       "2025-01-23 20:00:00  green  \n",
       "2025-01-24 00:00:00    red  \n",
       "2025-01-24 04:00:00  green  \n",
       "2025-01-24 08:00:00  green  \n",
       "2025-01-24 12:00:00  green  \n",
       "2025-01-24 16:00:00    red  \n",
       "2025-01-24 20:00:00    red  \n",
       "2025-01-25 00:00:00  green  \n",
       "2025-01-25 04:00:00    red  \n",
       "2025-01-25 08:00:00  green  \n",
       "2025-01-25 12:00:00  green  \n",
       "2025-01-25 16:00:00  green  \n",
       "2025-01-25 20:00:00    red  \n",
       "2025-01-26 00:00:00  green  \n",
       "2025-01-26 04:00:00    red  \n",
       "2025-01-26 08:00:00    red  \n",
       "2025-01-26 12:00:00  green  \n",
       "2025-01-26 16:00:00  green  \n",
       "2025-01-26 20:00:00    red  \n",
       "2025-01-27 00:00:00    red  \n",
       "2025-01-27 04:00:00    red  \n",
       "2025-01-27 08:00:00    red  \n",
       "2025-01-27 12:00:00  green  \n",
       "2025-01-27 16:00:00    red  \n",
       "2025-01-27 20:00:00  green  \n",
       "2025-01-28 00:00:00  green  \n",
       "2025-01-28 04:00:00  green  \n",
       "2025-01-28 08:00:00    red  \n",
       "2025-01-28 12:00:00  green  \n",
       "2025-01-28 16:00:00    red  \n",
       "2025-01-28 20:00:00    red  \n",
       "2025-01-29 00:00:00  green  "
      ]
     },
     "execution_count": 52,
     "metadata": {},
     "output_type": "execute_result"
    }
   ],
   "source": [
    "klines = client.get_historical_klines(\"BTCUSDT\", Client.KLINE_INTERVAL_4HOUR, \"7 day ago UTC\")\n",
    "\n",
    "df = pd.DataFrame(klines, columns = ['timestamp', 'open', 'high', 'low', 'close', 'volume', 'close_time', 'quote_av', 'trades', 'tb_base_av', 'tb_quote_av', 'ignore'])\n",
    "df = df[['timestamp', 'open', 'high', 'low', 'close', 'volume']]\n",
    "\n",
    "df['timestamp'] = pd.to_datetime(df['timestamp'], unit='ms')\n",
    "df.set_index('timestamp', inplace=True)\n",
    "df = df.astype(float)\n",
    "df[\"color\"] = df.apply(lambda x: \"green\" if x['close'] > x['open'] else \"red\", axis=1)\n",
    "\n",
    "print(df.dtypes)\n",
    "\n",
    "df"
   ]
  },
  {
   "cell_type": "code",
   "execution_count": 55,
   "metadata": {},
   "outputs": [
    {
     "data": {
      "application/vnd.plotly.v1+json": {
       "config": {
        "plotlyServerURL": "https://plot.ly"
       },
       "data": [
        {
         "close": {
          "bdata": "H4XrUcyn+UDXo3A9xqj5QI/C9ShAb/lAAAAAAGCL+UD2KFyPqlH5QAAAAADUA/lAH4XrUWQT+UBxPQrXh+P4QB+F61H4svlAPQrXo6BV+UAK16NwZV75QAAAAAA8XflAzczMzGyl+UCamZmZwbz5QOF6FK4/2PlApHA9Cg/S+UAAAAAAaJr5QGZmZmYmr/lA4XoUrh98+UBxPQrX7435QD0K16McnPlA9ihcj/Kl+UCamZmZrZL5QIXrUbhmpvlAmpmZmWWi+UCkcD0KK5f5QI/C9ShwoPlASOF6FJqn+UAAAAAAwA35QNejcD06wfhAH4XrUYAu+EBI4XoUkhz4QK5H4XqAr/hAH4XrUUBX+EB7FK5HLez4QOxRuB7FDvlAUrgehVsY+UCPwvUooBb5QHE9CtefF/lAcT0K14MB+UAfhetReL34QB+F61E00PhA",
          "dtype": "f8"
         },
         "high": {
          "bdata": "AAAAAADe+UB7FK5Hjb/5QOF6FK4Dx/lA16NwPSqT+UC4HoXr4Zf5QHE9Cte/WPlAXI/C9YQj+UCkcD0KTxT5QClcj8It5PlAAAAAACAW+kCuR+F6UPv5QAAAAACgdvlAAAAAALC4+UAAAAAA8NH5QPYoXI8a9flAAAAAAAAn+kAAAAAAUNP5QOxRuB4NtPlAZmZmZiav+UCPwvUowI/5QClcj8JxqflAH4XrUWi0+UAAAAAAILL5QHE9CteTs/lAAAAAAMDB+UApXI/CVbD5QClcj8JhqvlAKVyPwsWy+UAAAAAAAK/5QAAAAADANflAcT0K13/B+EB7FK5H1Uz4QKRwPQrf+vhAXI/C9Si4+EAAAAAAUAD5QAAAAADAHvlAcT0K17M8+UDsUbge3TD5QAAAAACAV/lAAAAAAEAs+UAAAAAAoAj5QBSuR+Ga5vhA",
          "dtype": "f8"
         },
         "low": {
          "bdata": "SOF6FD6l+UAAAAAAfIz5QHsUrkfpTvlAuB6F67E6+UD2KFyPukv5QAAAAABA7fhAAAAAAHjM+ECuR+F65Lj4QLgehesZuvhA4XoUrn8++UAzMzMzO/P4QAAAAADgFflAH4XrUcxX+UD2KFyPpp35QIXrUbjSjflAAAAAAFDH+UDXo3A9joD5QNejcD2eevlAXI/C9Yxx+UAK16NwoWr5QAAAAACAgPlAAAAAAByA+UAAAAAAgI/5QDMzMzN7g/lAAAAAAGCf+UCPwvUowH/5QHsUrkf5j/lAAAAAAACc+UCkcD0Khwf5QK5H4XoIl/hAH4XrURzf90BxPQrXd/33QK5H4XqkGfhAAAAAAAAj+EDD9ShcZ1H4QM3MzMxovfhA16NwPfYH+UCkcD0Kn//4QI/C9Sh02/hAZmZmZsLb+EAUrkfhCnv4QI/C9SgAvfhA",
          "dtype": "f8"
         },
         "open": {
          "bdata": "j8L1KADI+UAfhetRzKf5QEjhehTGqPlAj8L1KEBv+UAAAAAAYIv5QPYoXI+qUflAcT0K19MD+UCuR+F6ZBP5QAAAAACI4/hAH4XrUfiy+UDNzMzMoFX5QJqZmZllXvlAAAAAADxd+UA9CtejbKX5QClcj8LBvPlAcT0K1z/Y+UAUrkfhDtL5QI/C9ShomvlAZmZmZiav+UBxPQrXH3z5QHE9CtfvjflAPQrXoxyc+UD2KFyP8qX5QClcj8KtkvlA9ihcj2am+UApXI/CZaL5QBSuR+Eql/lAH4XrUXCg+UDXo3A9mqf5QI/C9SjADflA16NwPTrB+ECPwvUogC74QLgeheuRHPhArkfheoCv+ECPwvUoQFf4QHsUrkct7PhA7FG4HsUO+UBSuB6FWxj5QB+F61GgFvlAcT0K158X+UBxPQrXgwH5QB+F61F4vfhA",
          "dtype": "f8"
         },
         "type": "candlestick",
         "x": [
          "2025-01-22T04:00:00.000000000",
          "2025-01-22T08:00:00.000000000",
          "2025-01-22T12:00:00.000000000",
          "2025-01-22T16:00:00.000000000",
          "2025-01-22T20:00:00.000000000",
          "2025-01-23T00:00:00.000000000",
          "2025-01-23T04:00:00.000000000",
          "2025-01-23T08:00:00.000000000",
          "2025-01-23T12:00:00.000000000",
          "2025-01-23T16:00:00.000000000",
          "2025-01-23T20:00:00.000000000",
          "2025-01-24T00:00:00.000000000",
          "2025-01-24T04:00:00.000000000",
          "2025-01-24T08:00:00.000000000",
          "2025-01-24T12:00:00.000000000",
          "2025-01-24T16:00:00.000000000",
          "2025-01-24T20:00:00.000000000",
          "2025-01-25T00:00:00.000000000",
          "2025-01-25T04:00:00.000000000",
          "2025-01-25T08:00:00.000000000",
          "2025-01-25T12:00:00.000000000",
          "2025-01-25T16:00:00.000000000",
          "2025-01-25T20:00:00.000000000",
          "2025-01-26T00:00:00.000000000",
          "2025-01-26T04:00:00.000000000",
          "2025-01-26T08:00:00.000000000",
          "2025-01-26T12:00:00.000000000",
          "2025-01-26T16:00:00.000000000",
          "2025-01-26T20:00:00.000000000",
          "2025-01-27T00:00:00.000000000",
          "2025-01-27T04:00:00.000000000",
          "2025-01-27T08:00:00.000000000",
          "2025-01-27T12:00:00.000000000",
          "2025-01-27T16:00:00.000000000",
          "2025-01-27T20:00:00.000000000",
          "2025-01-28T00:00:00.000000000",
          "2025-01-28T04:00:00.000000000",
          "2025-01-28T08:00:00.000000000",
          "2025-01-28T12:00:00.000000000",
          "2025-01-28T16:00:00.000000000",
          "2025-01-28T20:00:00.000000000",
          "2025-01-29T00:00:00.000000000"
         ],
         "xaxis": "x",
         "yaxis": "y"
        },
        {
         "marker": {
          "color": [
           "red",
           "green",
           "red",
           "green",
           "red",
           "red",
           "green",
           "red",
           "green",
           "red",
           "green",
           "red",
           "green",
           "green",
           "green",
           "red",
           "red",
           "green",
           "red",
           "green",
           "green",
           "green",
           "red",
           "green",
           "red",
           "red",
           "green",
           "green",
           "red",
           "red",
           "red",
           "red",
           "green",
           "red",
           "green",
           "green",
           "green",
           "red",
           "green",
           "red",
           "red",
           "green"
          ]
         },
         "name": "Volume",
         "type": "bar",
         "x": [
          "2025-01-22T04:00:00.000000000",
          "2025-01-22T08:00:00.000000000",
          "2025-01-22T12:00:00.000000000",
          "2025-01-22T16:00:00.000000000",
          "2025-01-22T20:00:00.000000000",
          "2025-01-23T00:00:00.000000000",
          "2025-01-23T04:00:00.000000000",
          "2025-01-23T08:00:00.000000000",
          "2025-01-23T12:00:00.000000000",
          "2025-01-23T16:00:00.000000000",
          "2025-01-23T20:00:00.000000000",
          "2025-01-24T00:00:00.000000000",
          "2025-01-24T04:00:00.000000000",
          "2025-01-24T08:00:00.000000000",
          "2025-01-24T12:00:00.000000000",
          "2025-01-24T16:00:00.000000000",
          "2025-01-24T20:00:00.000000000",
          "2025-01-25T00:00:00.000000000",
          "2025-01-25T04:00:00.000000000",
          "2025-01-25T08:00:00.000000000",
          "2025-01-25T12:00:00.000000000",
          "2025-01-25T16:00:00.000000000",
          "2025-01-25T20:00:00.000000000",
          "2025-01-26T00:00:00.000000000",
          "2025-01-26T04:00:00.000000000",
          "2025-01-26T08:00:00.000000000",
          "2025-01-26T12:00:00.000000000",
          "2025-01-26T16:00:00.000000000",
          "2025-01-26T20:00:00.000000000",
          "2025-01-27T00:00:00.000000000",
          "2025-01-27T04:00:00.000000000",
          "2025-01-27T08:00:00.000000000",
          "2025-01-27T12:00:00.000000000",
          "2025-01-27T16:00:00.000000000",
          "2025-01-27T20:00:00.000000000",
          "2025-01-28T00:00:00.000000000",
          "2025-01-28T04:00:00.000000000",
          "2025-01-28T08:00:00.000000000",
          "2025-01-28T12:00:00.000000000",
          "2025-01-28T16:00:00.000000000",
          "2025-01-28T20:00:00.000000000",
          "2025-01-29T00:00:00.000000000"
         ],
         "xaxis": "x2",
         "y": {
          "bdata": "aJHtfC+dpkC8y0V8B4CnQGwhyEHZd7dAea9amXgKsUBC7EyhAxmnQD8djxlIYLNA5ZttblykrkDb+X5q7BupQKzijcxB1tBA8S4X8aHfw0BYxRuZMzTMQM42N6Z3kq1AHM78av6MqEArGJXUyUinQEJbzqVQOrNADqFKzV5rtUBA2ZQr3L6pQNvEyf1ut59Ag92wbdH8lUDu68A5Y5qTQD24O2t34JZADi2ynU+enEAdcjPc4OOQQL8rgv9tjpRAeQH20ckzk0CkpfJ2RPKUQJWfVPvUw5FA2QjE63oTi0DRItv5/qeuQKshcY/xUMBAuk4jLdG1yEDusfShY4a6QCQofowJKcZA11HVBJnZukCOdXEbjYayQIMXfQV5rKxAdXYyOOq8pEA6r7FLNAegQH9qvHRz8rNAAfvo1A1YskAJ+aBngwauQEvNHmgF94RA",
          "dtype": "f8"
         },
         "yaxis": "y2"
        }
       ],
       "layout": {
        "template": {
         "data": {
          "bar": [
           {
            "error_x": {
             "color": "#2a3f5f"
            },
            "error_y": {
             "color": "#2a3f5f"
            },
            "marker": {
             "line": {
              "color": "#E5ECF6",
              "width": 0.5
             },
             "pattern": {
              "fillmode": "overlay",
              "size": 10,
              "solidity": 0.2
             }
            },
            "type": "bar"
           }
          ],
          "barpolar": [
           {
            "marker": {
             "line": {
              "color": "#E5ECF6",
              "width": 0.5
             },
             "pattern": {
              "fillmode": "overlay",
              "size": 10,
              "solidity": 0.2
             }
            },
            "type": "barpolar"
           }
          ],
          "carpet": [
           {
            "aaxis": {
             "endlinecolor": "#2a3f5f",
             "gridcolor": "white",
             "linecolor": "white",
             "minorgridcolor": "white",
             "startlinecolor": "#2a3f5f"
            },
            "baxis": {
             "endlinecolor": "#2a3f5f",
             "gridcolor": "white",
             "linecolor": "white",
             "minorgridcolor": "white",
             "startlinecolor": "#2a3f5f"
            },
            "type": "carpet"
           }
          ],
          "choropleth": [
           {
            "colorbar": {
             "outlinewidth": 0,
             "ticks": ""
            },
            "type": "choropleth"
           }
          ],
          "contour": [
           {
            "colorbar": {
             "outlinewidth": 0,
             "ticks": ""
            },
            "colorscale": [
             [
              0,
              "#0d0887"
             ],
             [
              0.1111111111111111,
              "#46039f"
             ],
             [
              0.2222222222222222,
              "#7201a8"
             ],
             [
              0.3333333333333333,
              "#9c179e"
             ],
             [
              0.4444444444444444,
              "#bd3786"
             ],
             [
              0.5555555555555556,
              "#d8576b"
             ],
             [
              0.6666666666666666,
              "#ed7953"
             ],
             [
              0.7777777777777778,
              "#fb9f3a"
             ],
             [
              0.8888888888888888,
              "#fdca26"
             ],
             [
              1,
              "#f0f921"
             ]
            ],
            "type": "contour"
           }
          ],
          "contourcarpet": [
           {
            "colorbar": {
             "outlinewidth": 0,
             "ticks": ""
            },
            "type": "contourcarpet"
           }
          ],
          "heatmap": [
           {
            "colorbar": {
             "outlinewidth": 0,
             "ticks": ""
            },
            "colorscale": [
             [
              0,
              "#0d0887"
             ],
             [
              0.1111111111111111,
              "#46039f"
             ],
             [
              0.2222222222222222,
              "#7201a8"
             ],
             [
              0.3333333333333333,
              "#9c179e"
             ],
             [
              0.4444444444444444,
              "#bd3786"
             ],
             [
              0.5555555555555556,
              "#d8576b"
             ],
             [
              0.6666666666666666,
              "#ed7953"
             ],
             [
              0.7777777777777778,
              "#fb9f3a"
             ],
             [
              0.8888888888888888,
              "#fdca26"
             ],
             [
              1,
              "#f0f921"
             ]
            ],
            "type": "heatmap"
           }
          ],
          "histogram": [
           {
            "marker": {
             "pattern": {
              "fillmode": "overlay",
              "size": 10,
              "solidity": 0.2
             }
            },
            "type": "histogram"
           }
          ],
          "histogram2d": [
           {
            "colorbar": {
             "outlinewidth": 0,
             "ticks": ""
            },
            "colorscale": [
             [
              0,
              "#0d0887"
             ],
             [
              0.1111111111111111,
              "#46039f"
             ],
             [
              0.2222222222222222,
              "#7201a8"
             ],
             [
              0.3333333333333333,
              "#9c179e"
             ],
             [
              0.4444444444444444,
              "#bd3786"
             ],
             [
              0.5555555555555556,
              "#d8576b"
             ],
             [
              0.6666666666666666,
              "#ed7953"
             ],
             [
              0.7777777777777778,
              "#fb9f3a"
             ],
             [
              0.8888888888888888,
              "#fdca26"
             ],
             [
              1,
              "#f0f921"
             ]
            ],
            "type": "histogram2d"
           }
          ],
          "histogram2dcontour": [
           {
            "colorbar": {
             "outlinewidth": 0,
             "ticks": ""
            },
            "colorscale": [
             [
              0,
              "#0d0887"
             ],
             [
              0.1111111111111111,
              "#46039f"
             ],
             [
              0.2222222222222222,
              "#7201a8"
             ],
             [
              0.3333333333333333,
              "#9c179e"
             ],
             [
              0.4444444444444444,
              "#bd3786"
             ],
             [
              0.5555555555555556,
              "#d8576b"
             ],
             [
              0.6666666666666666,
              "#ed7953"
             ],
             [
              0.7777777777777778,
              "#fb9f3a"
             ],
             [
              0.8888888888888888,
              "#fdca26"
             ],
             [
              1,
              "#f0f921"
             ]
            ],
            "type": "histogram2dcontour"
           }
          ],
          "mesh3d": [
           {
            "colorbar": {
             "outlinewidth": 0,
             "ticks": ""
            },
            "type": "mesh3d"
           }
          ],
          "parcoords": [
           {
            "line": {
             "colorbar": {
              "outlinewidth": 0,
              "ticks": ""
             }
            },
            "type": "parcoords"
           }
          ],
          "pie": [
           {
            "automargin": true,
            "type": "pie"
           }
          ],
          "scatter": [
           {
            "fillpattern": {
             "fillmode": "overlay",
             "size": 10,
             "solidity": 0.2
            },
            "type": "scatter"
           }
          ],
          "scatter3d": [
           {
            "line": {
             "colorbar": {
              "outlinewidth": 0,
              "ticks": ""
             }
            },
            "marker": {
             "colorbar": {
              "outlinewidth": 0,
              "ticks": ""
             }
            },
            "type": "scatter3d"
           }
          ],
          "scattercarpet": [
           {
            "marker": {
             "colorbar": {
              "outlinewidth": 0,
              "ticks": ""
             }
            },
            "type": "scattercarpet"
           }
          ],
          "scattergeo": [
           {
            "marker": {
             "colorbar": {
              "outlinewidth": 0,
              "ticks": ""
             }
            },
            "type": "scattergeo"
           }
          ],
          "scattergl": [
           {
            "marker": {
             "colorbar": {
              "outlinewidth": 0,
              "ticks": ""
             }
            },
            "type": "scattergl"
           }
          ],
          "scattermap": [
           {
            "marker": {
             "colorbar": {
              "outlinewidth": 0,
              "ticks": ""
             }
            },
            "type": "scattermap"
           }
          ],
          "scattermapbox": [
           {
            "marker": {
             "colorbar": {
              "outlinewidth": 0,
              "ticks": ""
             }
            },
            "type": "scattermapbox"
           }
          ],
          "scatterpolar": [
           {
            "marker": {
             "colorbar": {
              "outlinewidth": 0,
              "ticks": ""
             }
            },
            "type": "scatterpolar"
           }
          ],
          "scatterpolargl": [
           {
            "marker": {
             "colorbar": {
              "outlinewidth": 0,
              "ticks": ""
             }
            },
            "type": "scatterpolargl"
           }
          ],
          "scatterternary": [
           {
            "marker": {
             "colorbar": {
              "outlinewidth": 0,
              "ticks": ""
             }
            },
            "type": "scatterternary"
           }
          ],
          "surface": [
           {
            "colorbar": {
             "outlinewidth": 0,
             "ticks": ""
            },
            "colorscale": [
             [
              0,
              "#0d0887"
             ],
             [
              0.1111111111111111,
              "#46039f"
             ],
             [
              0.2222222222222222,
              "#7201a8"
             ],
             [
              0.3333333333333333,
              "#9c179e"
             ],
             [
              0.4444444444444444,
              "#bd3786"
             ],
             [
              0.5555555555555556,
              "#d8576b"
             ],
             [
              0.6666666666666666,
              "#ed7953"
             ],
             [
              0.7777777777777778,
              "#fb9f3a"
             ],
             [
              0.8888888888888888,
              "#fdca26"
             ],
             [
              1,
              "#f0f921"
             ]
            ],
            "type": "surface"
           }
          ],
          "table": [
           {
            "cells": {
             "fill": {
              "color": "#EBF0F8"
             },
             "line": {
              "color": "white"
             }
            },
            "header": {
             "fill": {
              "color": "#C8D4E3"
             },
             "line": {
              "color": "white"
             }
            },
            "type": "table"
           }
          ]
         },
         "layout": {
          "annotationdefaults": {
           "arrowcolor": "#2a3f5f",
           "arrowhead": 0,
           "arrowwidth": 1
          },
          "autotypenumbers": "strict",
          "coloraxis": {
           "colorbar": {
            "outlinewidth": 0,
            "ticks": ""
           }
          },
          "colorscale": {
           "diverging": [
            [
             0,
             "#8e0152"
            ],
            [
             0.1,
             "#c51b7d"
            ],
            [
             0.2,
             "#de77ae"
            ],
            [
             0.3,
             "#f1b6da"
            ],
            [
             0.4,
             "#fde0ef"
            ],
            [
             0.5,
             "#f7f7f7"
            ],
            [
             0.6,
             "#e6f5d0"
            ],
            [
             0.7,
             "#b8e186"
            ],
            [
             0.8,
             "#7fbc41"
            ],
            [
             0.9,
             "#4d9221"
            ],
            [
             1,
             "#276419"
            ]
           ],
           "sequential": [
            [
             0,
             "#0d0887"
            ],
            [
             0.1111111111111111,
             "#46039f"
            ],
            [
             0.2222222222222222,
             "#7201a8"
            ],
            [
             0.3333333333333333,
             "#9c179e"
            ],
            [
             0.4444444444444444,
             "#bd3786"
            ],
            [
             0.5555555555555556,
             "#d8576b"
            ],
            [
             0.6666666666666666,
             "#ed7953"
            ],
            [
             0.7777777777777778,
             "#fb9f3a"
            ],
            [
             0.8888888888888888,
             "#fdca26"
            ],
            [
             1,
             "#f0f921"
            ]
           ],
           "sequentialminus": [
            [
             0,
             "#0d0887"
            ],
            [
             0.1111111111111111,
             "#46039f"
            ],
            [
             0.2222222222222222,
             "#7201a8"
            ],
            [
             0.3333333333333333,
             "#9c179e"
            ],
            [
             0.4444444444444444,
             "#bd3786"
            ],
            [
             0.5555555555555556,
             "#d8576b"
            ],
            [
             0.6666666666666666,
             "#ed7953"
            ],
            [
             0.7777777777777778,
             "#fb9f3a"
            ],
            [
             0.8888888888888888,
             "#fdca26"
            ],
            [
             1,
             "#f0f921"
            ]
           ]
          },
          "colorway": [
           "#636efa",
           "#EF553B",
           "#00cc96",
           "#ab63fa",
           "#FFA15A",
           "#19d3f3",
           "#FF6692",
           "#B6E880",
           "#FF97FF",
           "#FECB52"
          ],
          "font": {
           "color": "#2a3f5f"
          },
          "geo": {
           "bgcolor": "white",
           "lakecolor": "white",
           "landcolor": "#E5ECF6",
           "showlakes": true,
           "showland": true,
           "subunitcolor": "white"
          },
          "hoverlabel": {
           "align": "left"
          },
          "hovermode": "closest",
          "mapbox": {
           "style": "light"
          },
          "paper_bgcolor": "white",
          "plot_bgcolor": "#E5ECF6",
          "polar": {
           "angularaxis": {
            "gridcolor": "white",
            "linecolor": "white",
            "ticks": ""
           },
           "bgcolor": "#E5ECF6",
           "radialaxis": {
            "gridcolor": "white",
            "linecolor": "white",
            "ticks": ""
           }
          },
          "scene": {
           "xaxis": {
            "backgroundcolor": "#E5ECF6",
            "gridcolor": "white",
            "gridwidth": 2,
            "linecolor": "white",
            "showbackground": true,
            "ticks": "",
            "zerolinecolor": "white"
           },
           "yaxis": {
            "backgroundcolor": "#E5ECF6",
            "gridcolor": "white",
            "gridwidth": 2,
            "linecolor": "white",
            "showbackground": true,
            "ticks": "",
            "zerolinecolor": "white"
           },
           "zaxis": {
            "backgroundcolor": "#E5ECF6",
            "gridcolor": "white",
            "gridwidth": 2,
            "linecolor": "white",
            "showbackground": true,
            "ticks": "",
            "zerolinecolor": "white"
           }
          },
          "shapedefaults": {
           "line": {
            "color": "#2a3f5f"
           }
          },
          "ternary": {
           "aaxis": {
            "gridcolor": "white",
            "linecolor": "white",
            "ticks": ""
           },
           "baxis": {
            "gridcolor": "white",
            "linecolor": "white",
            "ticks": ""
           },
           "bgcolor": "#E5ECF6",
           "caxis": {
            "gridcolor": "white",
            "linecolor": "white",
            "ticks": ""
           }
          },
          "title": {
           "x": 0.05
          },
          "xaxis": {
           "automargin": true,
           "gridcolor": "white",
           "linecolor": "white",
           "ticks": "",
           "title": {
            "standoff": 15
           },
           "zerolinecolor": "white",
           "zerolinewidth": 2
          },
          "yaxis": {
           "automargin": true,
           "gridcolor": "white",
           "linecolor": "white",
           "ticks": "",
           "title": {
            "standoff": 15
           },
           "zerolinecolor": "white",
           "zerolinewidth": 2
          }
         }
        },
        "title": {
         "text": "Candlestick Chart with Volume"
        },
        "xaxis": {
         "anchor": "y",
         "domain": [
          0,
          1
         ],
         "matches": "x2",
         "rangeslider": {
          "visible": false
         },
         "showticklabels": false,
         "title": {
          "text": "Time"
         }
        },
        "xaxis2": {
         "anchor": "y2",
         "domain": [
          0,
          1
         ]
        },
        "yaxis": {
         "anchor": "x",
         "domain": [
          0.51,
          1
         ],
         "title": {
          "text": "Price"
         }
        },
        "yaxis2": {
         "anchor": "x2",
         "domain": [
          0,
          0.49
         ]
        }
       }
      }
     },
     "metadata": {},
     "output_type": "display_data"
    }
   ],
   "source": [
    "import plotly.graph_objects as go\n",
    "from plotly.subplots import make_subplots\n",
    "\n",
    "from datetime import datetime\n",
    "\n",
    "fig = make_subplots(rows=2, cols=1, shared_xaxes=True, vertical_spacing=0.02)\n",
    "\n",
    "fig.add_trace(go.Candlestick(x=df.index,\n",
    "                open=df['open'],\n",
    "                high=df['high'],\n",
    "                low=df['low'],\n",
    "                close=df['close']\n",
    "                ), row=1, col=1)\n",
    "\n",
    "fig.add_trace(go.Bar(x=df.index, \n",
    "                     y=df['volume'], \n",
    "                     name='Volume', \n",
    "                     marker=dict(color=df['color'])\n",
    "                     )\n",
    "              , row=2, col=1)\n",
    "\n",
    "fig.update_layout(\n",
    "    title=\"Candlestick Chart with Volume\",\n",
    "    xaxis_title=\"Time\",\n",
    "    yaxis_title=\"Price\",\n",
    "    xaxis_rangeslider_visible=False\n",
    ")\n",
    "\n",
    "fig.show()"
   ]
  },
  {
   "cell_type": "code",
   "execution_count": null,
   "metadata": {},
   "outputs": [],
   "source": []
  },
  {
   "cell_type": "code",
   "execution_count": null,
   "metadata": {},
   "outputs": [],
   "source": []
  }
 ],
 "metadata": {
  "kernelspec": {
   "display_name": "Python 3",
   "language": "python",
   "name": "python3"
  },
  "language_info": {
   "codemirror_mode": {
    "name": "ipython",
    "version": 3
   },
   "file_extension": ".py",
   "mimetype": "text/x-python",
   "name": "python",
   "nbconvert_exporter": "python",
   "pygments_lexer": "ipython3",
   "version": "3.10.0"
  }
 },
 "nbformat": 4,
 "nbformat_minor": 2
}
